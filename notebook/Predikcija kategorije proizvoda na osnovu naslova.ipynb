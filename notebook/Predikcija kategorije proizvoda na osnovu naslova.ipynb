{
  "nbformat": 4,
  "nbformat_minor": 0,
  "metadata": {
    "colab": {
      "provenance": [],
      "authorship_tag": "ABX9TyOzi6zAK9+JH8ls/aeCxP1S",
      "include_colab_link": true
    },
    "kernelspec": {
      "name": "python3",
      "display_name": "Python 3"
    },
    "language_info": {
      "name": "python"
    }
  },
  "cells": [
    {
      "cell_type": "markdown",
      "metadata": {
        "id": "view-in-github",
        "colab_type": "text"
      },
      "source": [
        "<a href=\"https://colab.research.google.com/github/Mirsad-py/Predikcija-kategorije-proizvoda-na-osnovu-naslova/blob/main/notebook/Predikcija%20kategorije%20proizvoda%20na%20osnovu%20naslova.ipynb\" target=\"_parent\"><img src=\"https://colab.research.google.com/assets/colab-badge.svg\" alt=\"Open In Colab\"/></a>"
      ]
    },
    {
      "cell_type": "code",
      "execution_count": null,
      "metadata": {
        "id": "wbbcuHJ1f0RL"
      },
      "outputs": [],
      "source": []
    }
  ]
}